{
 "cells": [
  {
   "cell_type": "code",
   "execution_count": 83,
   "metadata": {},
   "outputs": [],
   "source": [
    "import numpy as np\n",
    "import matplotlib.pyplot as plt\n",
    "import pandas as pd\n",
    "import selenium\n",
    "from selenium.webdriver.support.ui import Select\n",
    "from selenium import webdriver\n",
    "from webdriver_manager.chrome import ChromeDriverManager\n",
    "import re\n"
   ]
  },
  {
   "cell_type": "code",
   "execution_count": 138,
   "metadata": {},
   "outputs": [
    {
     "name": "stderr",
     "output_type": "stream",
     "text": [
      "\n",
      "\n",
      "====== WebDriver manager ======\n",
      "Current google-chrome version is 93.0.4577\n",
      "Get LATEST driver version for 93.0.4577\n",
      "Driver [/Users/lenguyen/.wdm/drivers/chromedriver/mac64/93.0.4577.63/chromedriver] found in cache\n"
     ]
    }
   ],
   "source": [
    "#Install chrome driver\n",
    "driver = webdriver.Chrome(ChromeDriverManager().install())\n",
    "#Go to congressional voting database\n",
    "driver.get('https://www.govtrack.us/congress/votes/117-2021/h295')\n",
    "\n",
    "congressPeople = []\n",
    "partyLine = []\n",
    "votes = []\n",
    "for j in range(1,4):\n",
    "    for i in range(2,200):\n",
    "        try:\n",
    "            names = driver.find_element_by_xpath('//*[@id=\"vote-details-all\"]/div/table['+str(j)+']/tbody/tr['+str(i)+']/td[4]/a')\n",
    "            congressPeople.append(\"\".join([i for i in names.get_attribute('href')[41:] if not i.isdigit()])[:-1])\n",
    "            partyVote = driver.find_element_by_xpath('//*[@id=\"vote-details-all\"]/div/table['+str(j)+']/tbody/tr['+str(i)+']')\n",
    "            partyLine.append(partyVote.get_attribute(\"voter_group_2\"))\n",
    "            votes.append(partyVote.get_attribute(\"voter_group_0\"))\n",
    "        except:\n",
    "            pass"
   ]
  },
  {
   "cell_type": "code",
   "execution_count": 144,
   "metadata": {},
   "outputs": [],
   "source": [
    "data = pd.DataFrame(np.array([congressPeople,partyLine,votes]).T, columns = [\"Congress Person\", \"Party\",\"Vote\"])"
   ]
  },
  {
   "cell_type": "code",
   "execution_count": 145,
   "metadata": {},
   "outputs": [
    {
     "data": {
      "text/html": [
       "<div>\n",
       "<style scoped>\n",
       "    .dataframe tbody tr th:only-of-type {\n",
       "        vertical-align: middle;\n",
       "    }\n",
       "\n",
       "    .dataframe tbody tr th {\n",
       "        vertical-align: top;\n",
       "    }\n",
       "\n",
       "    .dataframe thead th {\n",
       "        text-align: right;\n",
       "    }\n",
       "</style>\n",
       "<table border=\"1\" class=\"dataframe\">\n",
       "  <thead>\n",
       "    <tr style=\"text-align: right;\">\n",
       "      <th></th>\n",
       "      <th>Congress Person</th>\n",
       "      <th>Party</th>\n",
       "      <th>Vote</th>\n",
       "    </tr>\n",
       "  </thead>\n",
       "  <tbody>\n",
       "    <tr>\n",
       "      <th>0</th>\n",
       "      <td>jerry_carl</td>\n",
       "      <td>Republican</td>\n",
       "      <td>Nay</td>\n",
       "    </tr>\n",
       "    <tr>\n",
       "      <th>1</th>\n",
       "      <td>barry_moore</td>\n",
       "      <td>Republican</td>\n",
       "      <td>Nay</td>\n",
       "    </tr>\n",
       "    <tr>\n",
       "      <th>2</th>\n",
       "      <td>mike_rogers</td>\n",
       "      <td>Republican</td>\n",
       "      <td>Nay</td>\n",
       "    </tr>\n",
       "    <tr>\n",
       "      <th>3</th>\n",
       "      <td>robert_aderholt</td>\n",
       "      <td>Republican</td>\n",
       "      <td>Nay</td>\n",
       "    </tr>\n",
       "    <tr>\n",
       "      <th>4</th>\n",
       "      <td>mo_brooks</td>\n",
       "      <td>Republican</td>\n",
       "      <td>Nay</td>\n",
       "    </tr>\n",
       "  </tbody>\n",
       "</table>\n",
       "</div>"
      ],
      "text/plain": [
       "   Congress Person       Party Vote\n",
       "0       jerry_carl  Republican  Nay\n",
       "1      barry_moore  Republican  Nay\n",
       "2      mike_rogers  Republican  Nay\n",
       "3  robert_aderholt  Republican  Nay\n",
       "4        mo_brooks  Republican  Nay"
      ]
     },
     "execution_count": 145,
     "metadata": {},
     "output_type": "execute_result"
    }
   ],
   "source": [
    "data.head()"
   ]
  },
  {
   "cell_type": "code",
   "execution_count": null,
   "metadata": {},
   "outputs": [],
   "source": []
  }
 ],
 "metadata": {
  "kernelspec": {
   "display_name": "Python 3 (ipykernel)",
   "language": "python",
   "name": "python3"
  },
  "language_info": {
   "codemirror_mode": {
    "name": "ipython",
    "version": 3
   },
   "file_extension": ".py",
   "mimetype": "text/x-python",
   "name": "python",
   "nbconvert_exporter": "python",
   "pygments_lexer": "ipython3",
   "version": "3.9.7"
  }
 },
 "nbformat": 4,
 "nbformat_minor": 2
}
