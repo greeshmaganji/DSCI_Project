{
 "cells": [
  {
   "cell_type": "code",
   "execution_count": 1,
   "metadata": {},
   "outputs": [],
   "source": [
    "import numpy as np\n",
    "import pandas as pd"
   ]
  },
  {
   "cell_type": "code",
   "execution_count": 2,
   "metadata": {},
   "outputs": [],
   "source": [
    "\"\"\"\n",
    "Array 0: Name of all congress people who vote on a bill\n",
    "Array 1: State the congress people are from\n",
    "Array 2: party of congress people\n",
    "Array 3: How they voted on a give bill\n",
    "\n",
    "!!! This is a ragged array because not all congress people vote on every bill !!!\n",
    "\"\"\"\n",
    "\n",
    "#Read in all lines from file\n",
    "f = open(\"data.csv\", \"r\")\n",
    "array = []\n",
    "line = f.readline()\n",
    "index = 0\n",
    "while line:\n",
    "    line = line.strip(\"\\n\")\n",
    "    line = line.split()\n",
    "    array.append([])\n",
    "    for item in line:\n",
    "        array[index].append(item)\n",
    "    line = f.readline()\n",
    "    index += 1\n",
    "f.close()"
   ]
  },
  {
   "cell_type": "code",
   "execution_count": 7,
   "metadata": {},
   "outputs": [],
   "source": [
    "#Reorganize data\n",
    "allData = []\n",
    "for j in range(0,len(array)):\n",
    "    allArray = []\n",
    "    data = []\n",
    "    for i in range(0,len(array[j])):\n",
    "        if array[j][i][0] == '[':\n",
    "            data.append(array[j][i][1:])\n",
    "        elif array[j][i][-1] == ']':\n",
    "            data.append(array[j][i][:-1])\n",
    "            allArray.append(data)\n",
    "            data = []\n",
    "        else:\n",
    "            data.append(array[j][i])\n",
    "        \n",
    "    allData.append(allArray)\n"
   ]
  },
  {
   "cell_type": "code",
   "execution_count": 9,
   "metadata": {},
   "outputs": [],
   "source": [
    "#clean state array\n",
    "#Any 2 word state is a problem, need to concatenate the words since they are saved as different elements\n",
    "\n",
    "#print(np.unique(allData[1][0]))\n",
    "problems = [\"'New\",\"'West\", \"'North\",\"'South\",\"'Rhode\"]\n",
    "\n",
    "for j in range(0,len(allData[1])):\n",
    "    bad_index = []\n",
    "    for i in range(0,len(allData[1][j])):\n",
    "        if allData[1][j][i] in problems:\n",
    "            allData[1][j][i] = allData[1][j][i] +\"_\"+ allData[1][j][i+1]\n",
    "            bad_index.append(i+1)\n",
    "\n",
    "    allData[1][j] = np.delete(allData[1][j], bad_index)\n",
    "    allData[1][j] = np.delete(allData[1][j], np.argwhere(allData[1][j] == 'None,'))\n",
    "    \n"
   ]
  },
  {
   "cell_type": "code",
   "execution_count": 10,
   "metadata": {},
   "outputs": [],
   "source": [
    "#Clean party array\n",
    "for j in range(0,2):\n",
    "    for i in range(0,len(allData[2])):\n",
    "        allData[2][i] = np.delete(allData[2][i], np.argwhere(allData[2][i] == 'None,'))\n"
   ]
  },
  {
   "cell_type": "code",
   "execution_count": 11,
   "metadata": {},
   "outputs": [],
   "source": [
    "#clean vote array\n",
    "for j in range(0,len(allData[3])):\n",
    "    bad_index = []\n",
    "    for i in range(0,len(allData[3][j])):\n",
    "        if allData[3][j][i] == \"'Not\":\n",
    "            allData[3][j][i] = allData[3][j][i] +\"_\"+ allData[3][j][i+1]\n",
    "            bad_index.append(i+1)\n",
    "\n",
    "    allData[3][j] = np.delete(allData[3][j], bad_index)\n",
    "    allData[3][j] = np.delete(allData[3][j], np.argwhere(allData[3][j] == 'None,'))\n",
    "\n"
   ]
  },
  {
   "cell_type": "code",
   "execution_count": 12,
   "metadata": {},
   "outputs": [],
   "source": [
    "#Remove extra \"\" from every element\n",
    "for k in range(0,len(allData)):\n",
    "    for j in range(0,len(allData[k])):\n",
    "        for i in range(0,len(allData[k][j])):\n",
    "            allData[k][j][i] = allData[k][j][i][1:-2]\n"
   ]
  },
  {
   "cell_type": "code",
   "execution_count": null,
   "metadata": {},
   "outputs": [],
   "source": []
  }
 ],
 "metadata": {
  "kernelspec": {
   "display_name": "Python 3 (ipykernel)",
   "language": "python",
   "name": "python3"
  },
  "language_info": {
   "codemirror_mode": {
    "name": "ipython",
    "version": 3
   },
   "file_extension": ".py",
   "mimetype": "text/x-python",
   "name": "python",
   "nbconvert_exporter": "python",
   "pygments_lexer": "ipython3",
   "version": "3.9.7"
  }
 },
 "nbformat": 4,
 "nbformat_minor": 2
}
