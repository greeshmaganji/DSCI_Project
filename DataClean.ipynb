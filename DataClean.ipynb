{
 "cells": [
  {
   "cell_type": "code",
   "execution_count": 1,
   "metadata": {},
   "outputs": [],
   "source": [
    "import numpy as np\n",
    "import pandas as pd"
   ]
  },
  {
   "cell_type": "code",
   "execution_count": 2,
   "metadata": {},
   "outputs": [],
   "source": [
    "\"\"\"\n",
    "Array 0: Name of all congress people who vote on a bill\n",
    "Array 1: State the congress people are from\n",
    "Array 2: party of congress people\n",
    "Array 3: How they voted on a give bill\n",
    "\n",
    "!!! This is a ragged array because not all congress people vote on every bill !!!\n",
    "\"\"\"\n",
    "\n",
    "\n",
    "#Read in all lines from file\n",
    "f = open(\"data.csv\", \"r\")\n",
    "array = []\n",
    "line = f.readline()\n",
    "index = 0\n",
    "while line:\n",
    "    line = line.strip(\"\\n\")\n",
    "    line = line.split()\n",
    "    array.append([])\n",
    "    for item in line:\n",
    "        array[index].append(item)\n",
    "    line = f.readline()\n",
    "    index += 1\n",
    "f.close()"
   ]
  },
  {
   "cell_type": "code",
   "execution_count": 3,
   "metadata": {},
   "outputs": [],
   "source": [
    "#Reorganize data\n",
    "allData = []\n",
    "for j in range(0,len(array)):\n",
    "    allArray = []\n",
    "    data = []\n",
    "    for i in range(0,len(array[j])):\n",
    "        if array[j][i][0] == '[':\n",
    "            data.append(array[j][i][1:])\n",
    "        elif array[j][i][-1] == ']':\n",
    "            data.append(array[j][i][:-1])\n",
    "            allArray.append(data)\n",
    "            data = []\n",
    "        else:\n",
    "            data.append(array[j][i])\n",
    "        \n",
    "    allData.append(allArray)\n"
   ]
  },
  {
   "cell_type": "code",
   "execution_count": 12,
   "metadata": {},
   "outputs": [],
   "source": [
    "#Clean name array\n",
    "\n",
    "for j in range(0,len(allData[0])):\n",
    "    for i in range(0,len(allData[0][j])):\n",
    "        allData[0][j][i] = allData[0][j][i][1:-2]\n",
    "        \n",
    "        \n",
    "        "
   ]
  },
  {
   "cell_type": "code",
   "execution_count": null,
   "metadata": {},
   "outputs": [],
   "source": []
  }
 ],
 "metadata": {
  "kernelspec": {
   "display_name": "Python 3 (ipykernel)",
   "language": "python",
   "name": "python3"
  },
  "language_info": {
   "codemirror_mode": {
    "name": "ipython",
    "version": 3
   },
   "file_extension": ".py",
   "mimetype": "text/x-python",
   "name": "python",
   "nbconvert_exporter": "python",
   "pygments_lexer": "ipython3",
   "version": "3.9.7"
  }
 },
 "nbformat": 4,
 "nbformat_minor": 2
}
